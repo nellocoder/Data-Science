{
  "nbformat": 4,
  "nbformat_minor": 0,
  "metadata": {
    "colab": {
      "provenance": [],
      "authorship_tag": "ABX9TyOe8wgPxRv5T7oF8h+ZEhAb",
      "include_colab_link": true
    },
    "kernelspec": {
      "name": "python3",
      "display_name": "Python 3"
    },
    "language_info": {
      "name": "python"
    }
  },
  "cells": [
    {
      "cell_type": "markdown",
      "metadata": {
        "id": "view-in-github",
        "colab_type": "text"
      },
      "source": [
        "<a href=\"https://colab.research.google.com/github/nellocoder/Data-Science/blob/main/Recap.ipynb\" target=\"_parent\"><img src=\"https://colab.research.google.com/assets/colab-badge.svg\" alt=\"Open In Colab\"/></a>"
      ]
    },
    {
      "cell_type": "code",
      "execution_count": 17,
      "metadata": {
        "colab": {
          "base_uri": "https://localhost:8080/"
        },
        "id": "xoz-ebgnEUip",
        "outputId": "dae72596-c3db-423a-c572-8b9eb6e0b70f"
      },
      "outputs": [
        {
          "output_type": "stream",
          "name": "stdout",
          "text": [
            "11 is an odd number\n",
            "22 is an even number\n"
          ]
        }
      ],
      "source": [
        "def even(number):\n",
        "  if number % 2==0:\n",
        "    print(number, \"is an even number\");\n",
        "  else:\n",
        "    print(number, \"is an odd number\");\n",
        "even(11)\n",
        "even(22)"
      ]
    },
    {
      "cell_type": "code",
      "source": [
        "even(12)"
      ],
      "metadata": {
        "colab": {
          "base_uri": "https://localhost:8080/"
        },
        "id": "25YH6aiJXOnT",
        "outputId": "725b3ecc-6028-4557-f69e-a0c40b38f5a6"
      },
      "execution_count": 15,
      "outputs": [
        {
          "output_type": "stream",
          "name": "stdout",
          "text": [
            "12 is an even number\n"
          ]
        }
      ]
    },
    {
      "cell_type": "code",
      "source": [],
      "metadata": {
        "id": "9MOXFZ-7YbpV"
      },
      "execution_count": null,
      "outputs": []
    },
    {
      "cell_type": "code",
      "source": [],
      "metadata": {
        "id": "Q-utgN9CXSWO"
      },
      "execution_count": null,
      "outputs": []
    }
  ]
}