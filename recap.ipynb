{
  "nbformat": 4,
  "nbformat_minor": 0,
  "metadata": {
    "colab": {
      "provenance": [],
      "authorship_tag": "ABX9TyPghDu2IphqJrN0AWjwab6r",
      "include_colab_link": true
    },
    "kernelspec": {
      "name": "python3",
      "display_name": "Python 3"
    },
    "language_info": {
      "name": "python"
    }
  },
  "cells": [
    {
      "cell_type": "markdown",
      "metadata": {
        "id": "view-in-github",
        "colab_type": "text"
      },
      "source": [
        "<a href=\"https://colab.research.google.com/github/nellocoder/Data-Science/blob/main/recap.ipynb\" target=\"_parent\"><img src=\"https://colab.research.google.com/assets/colab-badge.svg\" alt=\"Open In Colab\"/></a>"
      ]
    },
    {
      "cell_type": "code",
      "execution_count": null,
      "metadata": {
        "colab": {
          "base_uri": "https://localhost:8080/"
        },
        "id": "xoz-ebgnEUip",
        "outputId": "6c641dce-d702-4c90-94b0-f0ba46c6ba8f"
      },
      "outputs": [
        {
          "output_type": "stream",
          "name": "stdout",
          "text": [
            "11 is an odd number\n",
            "22 is an even number\n"
          ]
        }
      ],
      "source": [
        "def even(number):\n",
        "  if number % 2==0:\n",
        "    print(number, \"is an even number\");\n",
        "  else:\n",
        "    print(number, \"is an odd number\");\n",
        "even(11)\n",
        "even(22)"
      ]
    }
  ]
}